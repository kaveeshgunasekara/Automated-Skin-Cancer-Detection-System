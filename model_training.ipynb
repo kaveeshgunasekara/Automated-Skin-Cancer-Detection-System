{
 "cells": [
  {
   "cell_type": "code",
   "execution_count": 18,
   "id": "0269a685-866e-421e-8768-3a8000b23205",
   "metadata": {},
   "outputs": [],
   "source": [
    "import numpy as np\n",
    "import pandas as pd\n",
    "import matplotlib.pyplot as plt\n",
    "from tensorflow.keras.preprocessing.image import ImageDataGenerator\n",
    "import os\n",
    "import cv2\n",
    "from keras.models import Sequential, load_model\n",
    "from keras.utils.np_utils import to_categorical\n",
    "from keras.callbacks import EarlyStopping, ModelCheckpoint\n",
    "from keras.optimizers import Adam\n",
    "from sklearn.model_selection import train_test_split\n",
    "from sklearn.utils.class_weight import compute_class_weight"
   ]
  },
  {
   "cell_type": "code",
   "execution_count": 19,
   "id": "de2578fd-559e-4b7a-8dbe-741ea1b7e758",
   "metadata": {},
   "outputs": [],
   "source": [
    "# Import missing layers from Keras\n",
    "from keras.layers import Conv2D, MaxPool2D, BatchNormalization, Flatten, Dense, Dropout"
   ]
  },
  {
   "cell_type": "code",
   "execution_count": 20,
   "id": "13c99aed-d3b4-47ce-8bb9-3a645a7ec7c5",
   "metadata": {},
   "outputs": [],
   "source": [
    "# Constants and Configuration\n",
    "IMAGE_SIZE = (100, 100)\n",
    "EPOCHS = 10\n",
    "BATCH_SIZE = 32"
   ]
  },
  {
   "cell_type": "code",
   "execution_count": 21,
   "id": "28b091c4-6c23-40de-b23d-e0df04403443",
   "metadata": {},
   "outputs": [],
   "source": [
    "# Separate Classes and Functions\n",
    "\n",
    "class DataLoader:\n",
    "    \"\"\"Handles loading and preprocessing data from disk.\"\"\"\n",
    "\n",
    "    def __init__(self, metadata_path, img_dir1, img_dir2):\n",
    "        self.metadata_path = metadata_path\n",
    "        self.img_dir1 = img_dir1\n",
    "        self.img_dir2 = img_dir2\n",
    "        self.df_skin = None\n",
    "\n",
    "    def load_metadata(self):\n",
    "        self.df_skin = pd.read_csv(self.metadata_path)\n",
    "        lesion_type_dict = {\n",
    "            'nv': 'Melanocytic nevi',\n",
    "            'mel': 'Melanoma',\n",
    "            'bkl': 'Benign keratosis-like lesions ',\n",
    "            'bcc': 'Basal cell carcinoma',\n",
    "            'akiec': 'Actinic keratoses',\n",
    "            'vasc': 'Vascular lesions',\n",
    "            'df': 'Dermatofibroma'\n",
    "        }\n",
    "        lesion_ID_dict = {\n",
    "            'nv': 0,\n",
    "            'mel': 1,\n",
    "            'bkl': 2,\n",
    "            'bcc': 3,\n",
    "            'akiec': 4,\n",
    "            'vasc': 5,\n",
    "            'df': 6\n",
    "        }\n",
    "        self.df_skin['lesion_type'] = self.df_skin['dx'].map(lesion_type_dict)\n",
    "        self.df_skin['lesion_ID'] = self.df_skin['dx'].map(lesion_ID_dict)\n",
    "        return self.df_skin\n",
    "\n",
    "    def produce_new_img(self, img):\n",
    "        \"\"\"Produce augmented images by rotating and flipping the original image.\"\"\"\n",
    "        return [\n",
    "            cv2.rotate(img, cv2.ROTATE_90_CLOCKWISE),\n",
    "            cv2.rotate(img, cv2.ROTATE_90_COUNTERCLOCKWISE),\n",
    "            cv2.rotate(img, cv2.ROTATE_180),\n",
    "            cv2.flip(img, 0),\n",
    "            cv2.flip(img, 1)\n",
    "        ]\n",
    "\n",
    "    def load_images(self):\n",
    "        X, y = [], []\n",
    "        # Process images from folder 1 and 2\n",
    "        for folder in [self.img_dir1, self.img_dir2]:\n",
    "            for file in os.listdir(folder):\n",
    "                image_path = os.path.join(folder, file)\n",
    "                img_id = file.replace('.jpg', '')\n",
    "\n",
    "                img = cv2.imread(image_path)\n",
    "                img_resized = cv2.resize(img, IMAGE_SIZE)\n",
    "\n",
    "                X.append(img_resized)\n",
    "                \n",
    "                # Fix the conversion to integer using iloc[0]\n",
    "                label = int(self.df_skin[self.df_skin['image_id'] == img_id].lesion_ID.iloc[0])\n",
    "                y.append(label)\n",
    "\n",
    "                # Augment data for minority classes\n",
    "                if label != 0:\n",
    "                    augmented_imgs = self.produce_new_img(img_resized)\n",
    "                    for aug_img in augmented_imgs:\n",
    "                        X.append(aug_img)\n",
    "                        y.append(label)\n",
    "        \n",
    "        return np.array(X), to_categorical(np.array(y), num_classes=7)\n",
    "\n",
    "\n",
    "class ModelFactory:\n",
    "    \"\"\"Factory class to create model instances.\"\"\"\n",
    "    \n",
    "    @staticmethod\n",
    "    def create_cnn(input_shape, num_classes):\n",
    "        model = Sequential([\n",
    "            Conv2D(filters=96, kernel_size=(11, 11), strides=(4, 4), activation='relu', input_shape=input_shape),\n",
    "            BatchNormalization(),\n",
    "            MaxPool2D(pool_size=(3, 3), strides=(2, 2)),\n",
    "            Conv2D(filters=256, kernel_size=(5, 5), strides=(1, 1), activation='relu', padding=\"same\"),\n",
    "            BatchNormalization(),\n",
    "            MaxPool2D(pool_size=(3, 3), strides=(2, 2)),\n",
    "            Conv2D(filters=384, kernel_size=(3, 3), strides=(1, 1), activation='relu', padding=\"same\"),\n",
    "            BatchNormalization(),\n",
    "            Conv2D(filters=384, kernel_size=(1, 1), strides=(1, 1), activation='relu', padding=\"same\"),\n",
    "            BatchNormalization(),\n",
    "            Conv2D(filters=256, kernel_size=(1, 1), strides=(1, 1), activation='relu', padding=\"same\"),\n",
    "            BatchNormalization(),\n",
    "            MaxPool2D(pool_size=(3, 3), strides=(2, 2)),\n",
    "            Flatten(),\n",
    "            Dense(4096, activation='relu'),\n",
    "            Dropout(0.5),\n",
    "            Dense(4096, activation='relu'),\n",
    "            Dropout(0.5),\n",
    "            Dense(num_classes, activation='softmax')\n",
    "        ])\n",
    "        return model\n",
    "\n",
    "\n",
    "class ModelTrainer:\n",
    "    \"\"\"Handles training and evaluation of the model.\"\"\"\n",
    "    \n",
    "    def __init__(self, model, class_weights, epochs, batch_size):\n",
    "        self.model = model\n",
    "        self.epochs = epochs\n",
    "        self.batch_size = batch_size\n",
    "        self.class_weights = class_weights\n",
    "\n",
    "    def compile_model(self, learning_rate):\n",
    "        optimizer = Adam(lr=learning_rate)\n",
    "        self.model.compile(optimizer=optimizer, loss='categorical_crossentropy', metrics=['accuracy'])\n",
    "\n",
    "    def train(self, X_train, y_train, X_val, y_val):\n",
    "        datagen = ImageDataGenerator(zoom_range=0.2, horizontal_flip=True, shear_range=0.2)\n",
    "        datagen.fit(X_train)\n",
    "\n",
    "        early_stopping = EarlyStopping(patience=10, monitor='val_accuracy')\n",
    "        model_checkpoint = ModelCheckpoint(filepath='model.h5', save_best_only=True, monitor='val_accuracy', verbose=1)\n",
    "\n",
    "        history = self.model.fit(\n",
    "            datagen.flow(X_train, y_train),\n",
    "            epochs=self.epochs,\n",
    "            batch_size=self.batch_size,\n",
    "            shuffle=True,\n",
    "            validation_data=(X_val, y_val),\n",
    "            class_weight=self.class_weights,\n",
    "            callbacks=[early_stopping, model_checkpoint]\n",
    "        )\n",
    "\n",
    "        return history\n",
    "\n",
    "    def evaluate(self, X_test, y_test):\n",
    "        scores = self.model.evaluate(X_test, y_test, verbose=1)\n",
    "        print(f\"Accuracy: {scores[1] * 100:.2f}%\")\n",
    "        return scores\n",
    "\n",
    "    def save_model(self, model_path=\"model.h5\"):\n",
    "        self.model.save(model_path)\n",
    "        print(f\"Model saved to {model_path}\")"
   ]
  },
  {
   "cell_type": "code",
   "execution_count": 22,
   "id": "29424b02-d62d-49f6-b79a-cf47489c90b9",
   "metadata": {},
   "outputs": [],
   "source": [
    "# Main Execution Code\n",
    "\n",
    "# Load data\n",
    "data_loader = DataLoader(\n",
    "    metadata_path='./kaggle/input/skin-cancer-mnist-ham10000/HAM10000_metadata.csv',\n",
    "    img_dir1='./kaggle/input/skin-cancer-mnist-ham10000/HAM10000_images_part_1/',\n",
    "    img_dir2='./kaggle/input/skin-cancer-mnist-ham10000/HAM10000_images_part_2/'\n",
    ")\n",
    "\n",
    "df_skin = data_loader.load_metadata()\n",
    "X, y = data_loader.load_images()"
   ]
  },
  {
   "cell_type": "code",
   "execution_count": 23,
   "id": "e7dc446a-1c96-47be-b499-d1ecb736a5d5",
   "metadata": {},
   "outputs": [],
   "source": [
    "# Train/Test Split\n",
    "X_train, X_test, y_train, y_test = train_test_split(X, y, test_size=0.33, random_state=50, stratify=y)"
   ]
  },
  {
   "cell_type": "code",
   "execution_count": 24,
   "id": "6398b53c-77cb-4460-9296-5888e9c821ef",
   "metadata": {},
   "outputs": [],
   "source": [
    "# Create model\n",
    "model = ModelFactory.create_cnn(input_shape=(100, 100, 3), num_classes=7)"
   ]
  },
  {
   "cell_type": "code",
   "execution_count": 25,
   "id": "360a0f3a-d9c6-4c60-ab40-fef4412d1848",
   "metadata": {},
   "outputs": [],
   "source": [
    "# Compute class weights for unbalanced data\n",
    "class_weights = compute_class_weight(class_weight='balanced', classes=np.unique(np.argmax(y, axis=1)), y=np.argmax(y, axis=1))\n",
    "class_weights_dict = dict(enumerate(class_weights))"
   ]
  },
  {
   "cell_type": "code",
   "execution_count": 26,
   "id": "d3e8ca7f-02c2-4048-b9ae-8e71e709264e",
   "metadata": {},
   "outputs": [
    {
     "name": "stderr",
     "output_type": "stream",
     "text": [
      "/opt/anaconda3/lib/python3.11/site-packages/keras/optimizers/legacy/adam.py:117: UserWarning: The `lr` argument is deprecated, use `learning_rate` instead.\n",
      "  super().__init__(name, **kwargs)\n"
     ]
    },
    {
     "name": "stdout",
     "output_type": "stream",
     "text": [
      "Epoch 1/10\n"
     ]
    },
    {
     "name": "stderr",
     "output_type": "stream",
     "text": [
      "2024-10-03 22:35:41.327093: I tensorflow/core/common_runtime/executor.cc:1197] [/device:CPU:0] (DEBUG INFO) Executor start aborting (this does not indicate an error and you can ignore this message): INVALID_ARGUMENT: You must feed a value for placeholder tensor 'Placeholder/_0' with dtype int32\n",
      "\t [[{{node Placeholder/_0}}]]\n"
     ]
    },
    {
     "name": "stdout",
     "output_type": "stream",
     "text": [
      "557/557 [==============================] - ETA: 0s - loss: 1.7292 - accuracy: 0.4044\n",
      "Epoch 1: val_accuracy improved from -inf to 0.08908, saving model to model.h5\n",
      "557/557 [==============================] - 94s 167ms/step - loss: 1.7292 - accuracy: 0.4044 - val_loss: 5.1812 - val_accuracy: 0.0891\n",
      "Epoch 2/10\n",
      "557/557 [==============================] - ETA: 0s - loss: 1.2876 - accuracy: 0.4891\n",
      "Epoch 2: val_accuracy improved from 0.08908 to 0.27683, saving model to model.h5\n",
      "557/557 [==============================] - 172s 308ms/step - loss: 1.2876 - accuracy: 0.4891 - val_loss: 2.9073 - val_accuracy: 0.2768\n",
      "Epoch 3/10\n",
      "557/557 [==============================] - ETA: 0s - loss: 1.1569 - accuracy: 0.5280\n",
      "Epoch 3: val_accuracy improved from 0.27683 to 0.45181, saving model to model.h5\n",
      "557/557 [==============================] - 178s 320ms/step - loss: 1.1569 - accuracy: 0.5280 - val_loss: 1.4647 - val_accuracy: 0.4518\n",
      "Epoch 4/10\n",
      "557/557 [==============================] - ETA: 0s - loss: 1.0826 - accuracy: 0.5477\n",
      "Epoch 4: val_accuracy improved from 0.45181 to 0.57762, saving model to model.h5\n",
      "557/557 [==============================] - 198s 356ms/step - loss: 1.0826 - accuracy: 0.5477 - val_loss: 1.0759 - val_accuracy: 0.5776\n",
      "Epoch 5/10\n",
      "557/557 [==============================] - ETA: 0s - loss: 1.0188 - accuracy: 0.5675\n",
      "Epoch 5: val_accuracy did not improve from 0.57762\n",
      "557/557 [==============================] - 252s 453ms/step - loss: 1.0188 - accuracy: 0.5675 - val_loss: 1.0406 - val_accuracy: 0.5758\n",
      "Epoch 6/10\n",
      "557/557 [==============================] - ETA: 0s - loss: 0.9761 - accuracy: 0.5859\n",
      "Epoch 6: val_accuracy did not improve from 0.57762\n",
      "557/557 [==============================] - 172s 309ms/step - loss: 0.9761 - accuracy: 0.5859 - val_loss: 1.2873 - val_accuracy: 0.4680\n",
      "Epoch 7/10\n",
      "557/557 [==============================] - ETA: 0s - loss: 0.9274 - accuracy: 0.5939\n",
      "Epoch 7: val_accuracy did not improve from 0.57762\n",
      "557/557 [==============================] - 191s 344ms/step - loss: 0.9274 - accuracy: 0.5939 - val_loss: 1.1691 - val_accuracy: 0.5752\n",
      "Epoch 8/10\n",
      "557/557 [==============================] - ETA: 0s - loss: 0.8675 - accuracy: 0.6130\n",
      "Epoch 8: val_accuracy did not improve from 0.57762\n",
      "557/557 [==============================] - 201s 361ms/step - loss: 0.8675 - accuracy: 0.6130 - val_loss: 1.4651 - val_accuracy: 0.4552\n",
      "Epoch 9/10\n",
      "557/557 [==============================] - ETA: 0s - loss: 0.8328 - accuracy: 0.6221\n",
      "Epoch 9: val_accuracy improved from 0.57762 to 0.61766, saving model to model.h5\n",
      "557/557 [==============================] - 210s 376ms/step - loss: 0.8328 - accuracy: 0.6221 - val_loss: 0.9590 - val_accuracy: 0.6177\n",
      "Epoch 10/10\n",
      "557/557 [==============================] - ETA: 0s - loss: 0.7936 - accuracy: 0.6318\n",
      "Epoch 10: val_accuracy did not improve from 0.61766\n",
      "557/557 [==============================] - 199s 357ms/step - loss: 0.7936 - accuracy: 0.6318 - val_loss: 1.0716 - val_accuracy: 0.5875\n"
     ]
    }
   ],
   "source": [
    "# Train model\n",
    "model_trainer = ModelTrainer(model=model, class_weights=class_weights_dict, epochs=EPOCHS, batch_size=BATCH_SIZE)\n",
    "model_trainer.compile_model(learning_rate=0.0001)\n",
    "\n",
    "history = model_trainer.train(X_train=X_train, y_train=y_train, X_val=X_test, y_val=y_test)"
   ]
  },
  {
   "cell_type": "code",
   "execution_count": 27,
   "id": "6da01af7-c474-4088-b492-5b9c37eeb891",
   "metadata": {},
   "outputs": [
    {
     "name": "stdout",
     "output_type": "stream",
     "text": [
      "274/274 [==============================] - 10s 37ms/step - loss: 1.0716 - accuracy: 0.5875\n",
      "Accuracy: 58.75%\n"
     ]
    },
    {
     "data": {
      "text/plain": [
       "[1.0716054439544678, 0.5875442028045654]"
      ]
     },
     "execution_count": 27,
     "metadata": {},
     "output_type": "execute_result"
    }
   ],
   "source": [
    "# Evaluate model\n",
    "model_trainer.evaluate(X_test=X_test, y_test=y_test)"
   ]
  },
  {
   "cell_type": "code",
   "execution_count": 28,
   "id": "247f1765-c8af-463b-98b4-1eb3318b00af",
   "metadata": {},
   "outputs": [
    {
     "name": "stdout",
     "output_type": "stream",
     "text": [
      "Model saved to model.h5\n"
     ]
    }
   ],
   "source": [
    "# Save model\n",
    "model_trainer.save_model()"
   ]
  },
  {
   "cell_type": "code",
   "execution_count": null,
   "id": "7b0819be-53c5-4056-8d2b-1cc18a3e395d",
   "metadata": {},
   "outputs": [],
   "source": []
  }
 ],
 "metadata": {
  "kernelspec": {
   "display_name": "Python 3 (ipykernel)",
   "language": "python",
   "name": "python3"
  },
  "language_info": {
   "codemirror_mode": {
    "name": "ipython",
    "version": 3
   },
   "file_extension": ".py",
   "mimetype": "text/x-python",
   "name": "python",
   "nbconvert_exporter": "python",
   "pygments_lexer": "ipython3",
   "version": "3.11.5"
  }
 },
 "nbformat": 4,
 "nbformat_minor": 5
}
